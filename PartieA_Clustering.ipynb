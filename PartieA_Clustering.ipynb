{
 "cells": [
  {
   "cell_type": "markdown",
   "id": "8ae3f83c",
   "metadata": {},
   "source": [
    "# Partie A – Clustering\n",
    "\n",
    "**Dataset**: Mall Customer Segmentation Data\n",
    "\n",
    "**Objectif**: Segmenter les clients du centre commercial en groupes homogènes.\n",
    "\n",
    "### Plan\n",
    "1. Chargement du jeu de données\n",
    "2. Nettoyage et prétraitement\n",
    "3. EDA univariée et multivariée"
   ]
  },
  {
   "cell_type": "code",
   "execution_count": 2,
   "id": "dd1e804f",
   "metadata": {},
   "outputs": [
    {
     "data": {
      "text/html": [
       "<div>\n",
       "<style scoped>\n",
       "    .dataframe tbody tr th:only-of-type {\n",
       "        vertical-align: middle;\n",
       "    }\n",
       "\n",
       "    .dataframe tbody tr th {\n",
       "        vertical-align: top;\n",
       "    }\n",
       "\n",
       "    .dataframe thead th {\n",
       "        text-align: right;\n",
       "    }\n",
       "</style>\n",
       "<table border=\"1\" class=\"dataframe\">\n",
       "  <thead>\n",
       "    <tr style=\"text-align: right;\">\n",
       "      <th></th>\n",
       "      <th>CustomerID</th>\n",
       "      <th>Gender</th>\n",
       "      <th>Age</th>\n",
       "      <th>Annual Income (k$)</th>\n",
       "      <th>Spending Score (1-100)</th>\n",
       "    </tr>\n",
       "  </thead>\n",
       "  <tbody>\n",
       "    <tr>\n",
       "      <th>0</th>\n",
       "      <td>1</td>\n",
       "      <td>Male</td>\n",
       "      <td>19</td>\n",
       "      <td>15</td>\n",
       "      <td>39</td>\n",
       "    </tr>\n",
       "    <tr>\n",
       "      <th>1</th>\n",
       "      <td>2</td>\n",
       "      <td>Male</td>\n",
       "      <td>21</td>\n",
       "      <td>15</td>\n",
       "      <td>81</td>\n",
       "    </tr>\n",
       "    <tr>\n",
       "      <th>2</th>\n",
       "      <td>3</td>\n",
       "      <td>Female</td>\n",
       "      <td>20</td>\n",
       "      <td>16</td>\n",
       "      <td>6</td>\n",
       "    </tr>\n",
       "    <tr>\n",
       "      <th>3</th>\n",
       "      <td>4</td>\n",
       "      <td>Female</td>\n",
       "      <td>23</td>\n",
       "      <td>16</td>\n",
       "      <td>77</td>\n",
       "    </tr>\n",
       "    <tr>\n",
       "      <th>4</th>\n",
       "      <td>5</td>\n",
       "      <td>Female</td>\n",
       "      <td>31</td>\n",
       "      <td>17</td>\n",
       "      <td>40</td>\n",
       "    </tr>\n",
       "  </tbody>\n",
       "</table>\n",
       "</div>"
      ],
      "text/plain": [
       "   CustomerID  Gender  Age  Annual Income (k$)  Spending Score (1-100)\n",
       "0           1    Male   19                  15                      39\n",
       "1           2    Male   21                  15                      81\n",
       "2           3  Female   20                  16                       6\n",
       "3           4  Female   23                  16                      77\n",
       "4           5  Female   31                  17                      40"
      ]
     },
     "execution_count": 2,
     "metadata": {},
     "output_type": "execute_result"
    }
   ],
   "source": [
    "import os\n",
    "os.environ['OMP_NUM_THREADS'] = '1'\n",
    "\n",
    "import warnings\n",
    "warnings.filterwarnings('ignore', message='.*memory leak on Windows with MKL.*')\n",
    "import pandas as pd\n",
    "from sklearn.preprocessing import StandardScaler\n",
    "import matplotlib.pyplot as plt\n",
    "from pandas.plotting import scatter_matrix\n",
    "\n",
    "# Chargement des données\n",
    "df = pd.read_csv('Mall_Customers.csv')\n",
    "df.head()"
   ]
  },
  {
   "cell_type": "code",
   "execution_count": null,
   "id": "f4a190a7",
   "metadata": {},
   "outputs": [
    {
     "name": "stdout",
     "output_type": "stream",
     "text": [
      "CustomerID                0\n",
      "Gender                    0\n",
      "Age                       0\n",
      "Annual Income (k$)        0\n",
      "Spending Score (1-100)    0\n",
      "dtype: int64\n"
     ]
    },
    {
     "data": {
      "text/html": [
       "<div>\n",
       "<style scoped>\n",
       "    .dataframe tbody tr th:only-of-type {\n",
       "        vertical-align: middle;\n",
       "    }\n",
       "\n",
       "    .dataframe tbody tr th {\n",
       "        vertical-align: top;\n",
       "    }\n",
       "\n",
       "    .dataframe thead th {\n",
       "        text-align: right;\n",
       "    }\n",
       "</style>\n",
       "<table border=\"1\" class=\"dataframe\">\n",
       "  <thead>\n",
       "    <tr style=\"text-align: right;\">\n",
       "      <th></th>\n",
       "      <th>CustomerID</th>\n",
       "      <th>Gender</th>\n",
       "      <th>Age</th>\n",
       "      <th>Annual Income (k$)</th>\n",
       "      <th>Spending Score (1-100)</th>\n",
       "    </tr>\n",
       "  </thead>\n",
       "  <tbody>\n",
       "    <tr>\n",
       "      <th>0</th>\n",
       "      <td>1</td>\n",
       "      <td>Male</td>\n",
       "      <td>-1.424569</td>\n",
       "      <td>-1.738999</td>\n",
       "      <td>-0.434801</td>\n",
       "    </tr>\n",
       "    <tr>\n",
       "      <th>1</th>\n",
       "      <td>2</td>\n",
       "      <td>Male</td>\n",
       "      <td>-1.281035</td>\n",
       "      <td>-1.738999</td>\n",
       "      <td>1.195704</td>\n",
       "    </tr>\n",
       "    <tr>\n",
       "      <th>2</th>\n",
       "      <td>3</td>\n",
       "      <td>Female</td>\n",
       "      <td>-1.352802</td>\n",
       "      <td>-1.700830</td>\n",
       "      <td>-1.715913</td>\n",
       "    </tr>\n",
       "    <tr>\n",
       "      <th>3</th>\n",
       "      <td>4</td>\n",
       "      <td>Female</td>\n",
       "      <td>-1.137502</td>\n",
       "      <td>-1.700830</td>\n",
       "      <td>1.040418</td>\n",
       "    </tr>\n",
       "    <tr>\n",
       "      <th>4</th>\n",
       "      <td>5</td>\n",
       "      <td>Female</td>\n",
       "      <td>-0.563369</td>\n",
       "      <td>-1.662660</td>\n",
       "      <td>-0.395980</td>\n",
       "    </tr>\n",
       "  </tbody>\n",
       "</table>\n",
       "</div>"
      ],
      "text/plain": [
       "   CustomerID  Gender       Age  Annual Income (k$)  Spending Score (1-100)\n",
       "0           1    Male -1.424569           -1.738999               -0.434801\n",
       "1           2    Male -1.281035           -1.738999                1.195704\n",
       "2           3  Female -1.352802           -1.700830               -1.715913\n",
       "3           4  Female -1.137502           -1.700830                1.040418\n",
       "4           5  Female -0.563369           -1.662660               -0.395980"
      ]
     },
     "execution_count": 3,
     "metadata": {},
     "output_type": "execute_result"
    }
   ],
   "source": [
    "\n",
    "# Vérification des valeurs manquantes\n",
    "print(df.isnull().sum())\n",
    "\n",
    "# Standardisation des variables quantitatives\n",
    "scaler = StandardScaler()\n",
    "df_scaled = df.copy()\n",
    "df_scaled[['Age', 'Annual Income (k$)', 'Spending Score (1-100)']] = scaler.fit_transform(df[['Age', 'Annual Income (k$)', 'Spending Score (1-100)']])\n",
    "df_scaled.head()"
   ]
  },
  {
   "cell_type": "markdown",
   "id": "47ec12bd",
   "metadata": {},
   "source": [
    "## EDA Univariée\n",
    "Histogrammes et boxplots des variables quantitatives"
   ]
  },
  {
   "cell_type": "code",
   "execution_count": null,
   "id": "5f3d074e",
   "metadata": {},
   "outputs": [],
   "source": [
    "\n",
    "fig, axes = plt.subplots(3, 2, figsize=(12, 12))\n",
    "variables = ['Age', 'Annual Income (k$)', 'Spending Score (1-100)']\n",
    "\n",
    "for i, var in enumerate(variables):\n",
    "    ax_hist = axes[i][0]\n",
    "    ax_box = axes[i][1]\n",
    "    ax_hist.hist(df[var], bins=20)\n",
    "    ax_hist.set_title(f'Histogramme de {var}')\n",
    "    ax_box.boxplot(df[var], vert=False)\n",
    "    ax_box.set_title(f'Boxplot de {var}')\n",
    "plt.tight_layout()\n",
    "plt.show()"
   ]
  },
  {
   "cell_type": "markdown",
   "id": "1640d11c",
   "metadata": {},
   "source": [
    "## EDA Multivariée\n",
    "Matrice de corrélation et scatter-plot matrix"
   ]
  },
  {
   "cell_type": "code",
   "execution_count": null,
   "id": "41ed32e8",
   "metadata": {},
   "outputs": [],
   "source": [
    "\n",
    "# Matrice de corrélation\n",
    "corr_matrix = df[['Age', 'Annual Income (k$)', 'Spending Score (1-100)']].corr()\n",
    "corr_matrix\n",
    "\n",
    "# Scatter plot matrix\n",
    "scatter_matrix(df[['Age', 'Annual Income (k$)', 'Spending Score (1-100)']], figsize=(8, 8), diagonal='hist')\n",
    "plt.show()"
   ]
  },
  {
   "cell_type": "markdown",
   "id": "f3c09511",
   "metadata": {},
   "source": [
    "## Interprétations\n",
    "- **Histogrammes & Boxplots** : Identification des distributions et des valeurs aberrantes potentielles.\n",
    "- **Corrélation** : Permet de détecter les relations linéaires entre les variables.\n",
    "- **Scatter Matrix** : Visualisation des interactions bivariées pour guider le clustering."
   ]
  },
  {
   "cell_type": "markdown",
   "id": "ed7c17bf",
   "metadata": {},
   "source": [
    "## 4. Feature Engineering / Sélection\n",
    "- Suppression des features non-informatives (CustomerID).\n",
    "- Création d'un ratio Revenu/Score.\n",
    "- Catégorisation de l'âge en classes."
   ]
  },
  {
   "cell_type": "code",
   "execution_count": null,
   "id": "7ac5c462",
   "metadata": {},
   "outputs": [],
   "source": [
    "\n",
    "# Suppression des features non-informatives\n",
    "df_fe = df_scaled.drop(columns=['CustomerID'])\n",
    "\n",
    "# Création d'un ratio Annual Income / Spending Score\n",
    "df_fe['Income_Score_Ratio'] = df_fe['Annual Income (k$)'] / (df_fe['Spending Score (1-100)'] + 1e-4)\n",
    "\n",
    "# Catégorisation de l'âge\n",
    "bins = [0, 25, 40, 60, 100]\n",
    "labels = ['Jeune', 'Adulte', 'Mature', 'Senior']\n",
    "df_fe['AgeGroup'] = pd.cut(df['Age'], bins=bins, labels=labels, right=False)\n",
    "\n",
    "# Affichage des nouvelles colonnes\n",
    "df_fe[['Income_Score_Ratio', 'AgeGroup']].head()"
   ]
  },
  {
   "cell_type": "markdown",
   "id": "d42734d9",
   "metadata": {},
   "source": [
    "### Visualisation du ratio et des classes d'âge"
   ]
  },
  {
   "cell_type": "code",
   "execution_count": null,
   "id": "d923042b",
   "metadata": {},
   "outputs": [],
   "source": [
    "\n",
    "# Histogramme du ratio\n",
    "plt.figure(figsize=(6,4))\n",
    "plt.hist(df_fe['Income_Score_Ratio'], bins=20)\n",
    "plt.title('Distribution du ratio Revenu/Score')\n",
    "plt.xlabel('Income_Score_Ratio')\n",
    "plt.ylabel('Nombre de clients')\n",
    "plt.show()\n",
    "\n",
    "# Comptage des classes d'âge\n",
    "age_counts = df_fe['AgeGroup'].value_counts().sort_index()\n",
    "plt.figure(figsize=(6,4))\n",
    "age_counts.plot(kind='bar')\n",
    "plt.title(\"Répartition des classes d'âge\")\n",
    "plt.xlabel(\"Groupe d'âge\")\n",
    "plt.ylabel(\"Nombre de clients\")\n",
    "plt.show()\n"
   ]
  },
  {
   "cell_type": "markdown",
   "id": "593df107",
   "metadata": {},
   "source": [
    "### Interprétations\n",
    "- **Suppression** : `CustomerID` ne contribue pas au clustering.\n",
    "- **Ratio Revenu/Score** : Permet d’identifier les clients à fort potentiel par rapport à leur score de dépense.\n",
    "- **Classes d’âge** : Facilite l’analyse de la segmentation par tranche d’âge."
   ]
  },
  {
   "cell_type": "markdown",
   "id": "3dd8eca5",
   "metadata": {},
   "source": [
    "## 5. Réduction de dimension : PCA\n",
    "- Objectif : projeter les données standardisées en 2 dimensions pour faciliter la visualisation.\n"
   ]
  },
  {
   "cell_type": "code",
   "execution_count": null,
   "id": "8b893593",
   "metadata": {},
   "outputs": [],
   "source": [
    "\n",
    "from sklearn.decomposition import PCA\n",
    "\n",
    "# Préparation des données sans la variable catégorielle\n",
    "features = df_fe.select_dtypes(include=[float, int]).drop(columns=['Annual Income (k$)', 'Spending Score (1-100)'], errors='ignore')\n",
    "\n",
    "# Application de la PCA\n",
    "pca = PCA(n_components=2)\n",
    "components = pca.fit_transform(df_fe[['Age', 'Annual Income (k$)', 'Spending Score (1-100)', 'Income_Score_Ratio']])\n",
    "\n",
    "# Création d'un DataFrame pour les composantes\n",
    "pca_df = pd.DataFrame(components, columns=['PC1', 'PC2'])\n",
    "pca_df['AgeGroup'] = df_fe['AgeGroup'].values\n",
    "\n",
    "# Visualisation 2D\n",
    "plt.figure(figsize=(8,6))\n",
    "for group in pca_df['AgeGroup'].unique():\n",
    "    subset = pca_df[pca_df['AgeGroup'] == group]\n",
    "    plt.scatter(subset['PC1'], subset['PC2'], label=group)\n",
    "plt.title('PCA des clients (2 composantes principales)')\n",
    "plt.xlabel('PC1')\n",
    "plt.ylabel('PC2')\n",
    "plt.legend(title=\"Groupe d'âge\")\n",
    "plt.grid(True)\n",
    "plt.show()\n",
    "\n",
    "# Variance expliquée\n",
    "explained = pca.explained_variance_ratio_\n",
    "print(f\"Variance expliquée par PC1: {explained[0]:.2%}, PC2: {explained[1]:.2%}\")"
   ]
  },
  {
   "cell_type": "markdown",
   "id": "02f6b51d",
   "metadata": {},
   "source": [
    "### Interprétations\n",
    "- **Scatter PCA** : Permet d'observer la répartition des clients selon les deux composantes principales et d'identifier d'éventuels regroupements.\n",
    "- **Variance expliquée** : Indique la part d'information conservée dans la projection 2D.\n"
   ]
  },
  {
   "cell_type": "markdown",
   "id": "dc2bbd17",
   "metadata": {},
   "source": [
    "## 6. Clustering\n",
    "- **Algorithme** : K-means avec k de 2 à 6.\n",
    "- **Évaluation** : Méthodes elbow (inertie) et silhouette."
   ]
  },
  {
   "cell_type": "code",
   "execution_count": null,
   "id": "545dcba1",
   "metadata": {},
   "outputs": [],
   "source": [
    "\n",
    "from sklearn.cluster import KMeans\n",
    "from sklearn.metrics import silhouette_score\n",
    "import matplotlib.pyplot as plt\n",
    "\n",
    "# Préparation des données pour le clustering\n",
    "X = df_fe[['Age', 'Annual Income (k$)', 'Spending Score (1-100)', 'Income_Score_Ratio']]\n",
    "\n",
    "# Calcul des inerties et silhouettes\n",
    "inertias = []\n",
    "silhouettes = []\n",
    "ks = range(2, 7)\n",
    "\n",
    "for k in ks:\n",
    "    kmeans = KMeans(n_clusters=k, random_state=42)\n",
    "    labels = kmeans.fit_predict(X)\n",
    "    inertias.append(kmeans.inertia_)\n",
    "    silhouettes.append(silhouette_score(X, labels))\n",
    "\n",
    "# Plot elbow\n",
    "plt.figure(figsize=(6,4))\n",
    "plt.plot(ks, inertias, marker='o')\n",
    "plt.title('Elbow Method')\n",
    "plt.xlabel('Nombre de clusters k')\n",
    "plt.ylabel('Inertie')\n",
    "plt.show()\n",
    "\n",
    "# Plot silhouette scores\n",
    "plt.figure(figsize=(6,4))\n",
    "plt.plot(ks, silhouettes, marker='o')\n",
    "plt.title('Score de silhouette')\n",
    "plt.xlabel('Nombre de clusters k')\n",
    "plt.ylabel('Silhouette Score')\n",
    "plt.show()\n"
   ]
  },
  {
   "cell_type": "markdown",
   "id": "bfa248e4",
   "metadata": {},
   "source": [
    "## 7. Interprétation des clusters\n",
    "- **Analyse des centroïdes** et **visualisation en 2D** (PCA) colorée par cluster."
   ]
  },
  {
   "cell_type": "code",
   "execution_count": null,
   "id": "b06a0cd5",
   "metadata": {},
   "outputs": [],
   "source": [
    "\n",
    "# Choix du k optimal (ex. k=4 d'après silhouette)\n",
    "optimal_k = 4\n",
    "kmeans_opt = KMeans(n_clusters=optimal_k, random_state=42)\n",
    "cluster_labels = kmeans_opt.fit_predict(X)\n",
    "\n",
    "# Ajout des labels au DataFrame PCA\n",
    "pca_df['Cluster'] = cluster_labels\n",
    "\n",
    "# Visualisation 2D par cluster\n",
    "plt.figure(figsize=(8,6))\n",
    "for cluster in range(optimal_k):\n",
    "    subset = pca_df[pca_df['Cluster'] == cluster]\n",
    "    plt.scatter(subset['PC1'], subset['PC2'], label=f'Cluster {cluster}')\n",
    "plt.title(f'PCA colorée par clusters (k={optimal_k})')\n",
    "plt.xlabel('PC1')\n",
    "plt.ylabel('PC2')\n",
    "plt.legend()\n",
    "plt.grid(True)\n",
    "plt.show()\n",
    "\n",
    "# Analyse des centroïdes\n",
    "centroids = pd.DataFrame(kmeans_opt.cluster_centers_, columns=X.columns)\n",
    "centroids\n"
   ]
  },
  {
   "cell_type": "markdown",
   "id": "e3f20839",
   "metadata": {},
   "source": [
    "## 8. Conclusions\n",
    "\n",
    "### 🧠 **Pertinence**  \n",
    "- Les groupes identifiés semblent cohérents en fonction des profils **Âge**, **Revenu**, **Score de dépense** et du ratio **Revenu/Score**, avec une variance expliquée satisfaisante via la PCA 2D.  \n",
    "- Les centroïdes révèlent des segments distincts tels que :  \n",
    "  - Jeunes à fort potentiel d’achat  \n",
    "  - Seniors à faible dépense  \n",
    "  - Revenus moyens avec dépenses élevées, etc.  \n",
    "  Cela peut guider efficacement des actions marketing ciblées.\n",
    "\n",
    "---\n",
    "\n",
    "### 🔧 **Suggestions d’amélioration**\n",
    "\n",
    "#### 🔢 Choix du nombre de clusters `k`  \n",
    "- Affiner `k` à l’aide de métriques supplémentaires (Calinski-Harabasz, Davies-Bouldin).  \n",
    "- Tester d'autres algorithmes :\n",
    "  - **DBSCAN** pour des clusters de densité variable  \n",
    "  - **Clustering agglomératif** (Ward, complete linkage) avec dendrogramme pour choix visuel de `k`\n",
    "\n",
    "#### 📊 Enrichissement du jeu de données  \n",
    "- Ajouter des variables qualitatives comme :\n",
    "  - **Genre**, **région géographique**, **type de canal d’achat**\n",
    "- Intégrer des données temporelles :\n",
    "  - **Historique d’achats** ou **évolution du score de dépense** dans le temps  \n",
    "  - Fréquence des visites, fidélité, montant moyen par visite\n",
    "\n",
    "---\n",
    "\n",
    "> 🔁 Ces améliorations permettraient une segmentation plus fine, robuste et adaptée à des cas réels de marketing ciblé.\n"
   ]
  },
  {
   "cell_type": "code",
   "execution_count": null,
   "id": "5db65c49-4ca5-4602-8b15-3e4a8bbaed55",
   "metadata": {},
   "outputs": [],
   "source": []
  }
 ],
 "metadata": {
  "kernelspec": {
   "display_name": "Python [conda env:base] *",
   "language": "python",
   "name": "conda-base-py"
  },
  "language_info": {
   "codemirror_mode": {
    "name": "ipython",
    "version": 3
   },
   "file_extension": ".py",
   "mimetype": "text/x-python",
   "name": "python",
   "nbconvert_exporter": "python",
   "pygments_lexer": "ipython3",
   "version": "3.12.7"
  }
 },
 "nbformat": 4,
 "nbformat_minor": 5
}
